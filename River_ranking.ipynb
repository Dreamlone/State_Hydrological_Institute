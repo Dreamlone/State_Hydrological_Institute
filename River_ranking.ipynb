{
 "cells": [
  {
   "cell_type": "markdown",
   "metadata": {},
   "source": [
    "# Определение порядка водотоков\n",
    "\n",
    "Для подготовки данных были произведены следующие действия:\n",
    "* Перевод слоя полигональных объектов в линейные: ВЕКТОР - ОБРАБОТКА ГЕОМЕТРИИ - ПРЕОБРАЗОВАТЬ ПОЛИГОНЫ В ЛИНИИ (QGIS)\n",
    "* Объединение линейных векторных слоев: ВЕКТОР - ГЕООБРАБОТКА - ОБЪЕДИНЕНИЕ (QGIS)\n",
    "* Задание новых полей с индексами: PYTHON\n",
    "* Разбиение линий на сегменты: АНАЛИЗ - ВЕКТОРНЫЙ ОВЕРЛЕЙ - РАЗБИТЬ ЛИНИЯМИ (QGIS)\n",
    "* Извлечение вершин на пересечениях сегментов: ВЕКТОР - АНАЛИЗ - ПЕРЕСЕЧЕНИЯ ЛИНИЙ (QGIS)\n",
    "\n",
    "В результате преобразований был получен следующий векторный слой: v_new.shp"
   ]
  },
  {
   "cell_type": "code",
   "execution_count": 1,
   "metadata": {},
   "outputs": [],
   "source": [
    "# Загрузим все нужные библиотеки \n",
    "import warnings\n",
    "warnings.filterwarnings('ignore')\n",
    "import numpy as np\n",
    "import matplotlib.pyplot as plt\n",
    "import math\n",
    "import pandas as pd\n",
    "import random\n",
    "import time\n",
    "import networkx as nx\n",
    "import pandas as pd\n",
    "import geopandas, geoplot"
   ]
  },
  {
   "cell_type": "markdown",
   "metadata": {},
   "source": [
    "## Загрузка векторного слоя "
   ]
  },
  {
   "cell_type": "code",
   "execution_count": 2,
   "metadata": {},
   "outputs": [
    {
     "data": {
      "text/html": [
       "<div>\n",
       "<style scoped>\n",
       "    .dataframe tbody tr th:only-of-type {\n",
       "        vertical-align: middle;\n",
       "    }\n",
       "\n",
       "    .dataframe tbody tr th {\n",
       "        vertical-align: top;\n",
       "    }\n",
       "\n",
       "    .dataframe thead th {\n",
       "        text-align: right;\n",
       "    }\n",
       "</style>\n",
       "<table border=\"1\" class=\"dataframe\">\n",
       "  <thead>\n",
       "    <tr style=\"text-align: right;\">\n",
       "      <th></th>\n",
       "      <th>id</th>\n",
       "      <th>NEW</th>\n",
       "      <th>id_2</th>\n",
       "      <th>NEW_2</th>\n",
       "      <th>geometry</th>\n",
       "    </tr>\n",
       "  </thead>\n",
       "  <tbody>\n",
       "    <tr>\n",
       "      <td>0</td>\n",
       "      <td>1</td>\n",
       "      <td>1</td>\n",
       "      <td>1</td>\n",
       "      <td>2</td>\n",
       "      <td>POINT (30.99791 59.93690)</td>\n",
       "    </tr>\n",
       "    <tr>\n",
       "      <td>1</td>\n",
       "      <td>1</td>\n",
       "      <td>1</td>\n",
       "      <td>2</td>\n",
       "      <td>5</td>\n",
       "      <td>POINT (30.99791 59.93690)</td>\n",
       "    </tr>\n",
       "    <tr>\n",
       "      <td>2</td>\n",
       "      <td>1</td>\n",
       "      <td>2</td>\n",
       "      <td>1</td>\n",
       "      <td>1</td>\n",
       "      <td>POINT (30.99791 59.93690)</td>\n",
       "    </tr>\n",
       "    <tr>\n",
       "      <td>3</td>\n",
       "      <td>1</td>\n",
       "      <td>2</td>\n",
       "      <td>1</td>\n",
       "      <td>3</td>\n",
       "      <td>POINT (30.75824 59.76402)</td>\n",
       "    </tr>\n",
       "    <tr>\n",
       "      <td>4</td>\n",
       "      <td>1</td>\n",
       "      <td>2</td>\n",
       "      <td>2</td>\n",
       "      <td>5</td>\n",
       "      <td>POINT (30.99791 59.93689)</td>\n",
       "    </tr>\n",
       "  </tbody>\n",
       "</table>\n",
       "</div>"
      ],
      "text/plain": [
       "   id  NEW  id_2  NEW_2                   geometry\n",
       "0   1    1     1      2  POINT (30.99791 59.93690)\n",
       "1   1    1     2      5  POINT (30.99791 59.93690)\n",
       "2   1    2     1      1  POINT (30.99791 59.93690)\n",
       "3   1    2     1      3  POINT (30.75824 59.76402)\n",
       "4   1    2     2      5  POINT (30.99791 59.93689)"
      ]
     },
     "execution_count": 2,
     "metadata": {},
     "output_type": "execute_result"
    }
   ],
   "source": [
    "data = geopandas.read_file('/media/mikhail/Data/Ob/v_new.shp')\n",
    "data.head(5)"
   ]
  },
  {
   "cell_type": "markdown",
   "metadata": {},
   "source": [
    "## Формирование графа\n",
    "\n",
    "На данном этапе данные можно описать следующим образом. Точки находятся на пересечениях сегментов. Все сегменты рек проиндексированы в поле NEW, все реки (которые состоят из нескольких сегментов) проиндексированы с помощью значений поля id. В результате определения точек пересечния сегментов, таблица атрибутов была преобразована. Были сформированы поля id_2 и NEW_2 - то есть точка характеризуется двуям парами полей: \"id\" и \"NEW\". Рассмотрим пару полей NEW и NEW_2, так как в дальнейшем будем использовать именно их. Каждая строка - это точка пересчения сегментов, в таком случае сегмент реки NEW через данную точку имеет пересечение с NEW_2. \n",
    "\n",
    "Таким образом, если рассматривать сегменты реки как вершины, а их связи/пересечения как ребра, то таблицу, составленную из полей NEW и NEW2 можно воспринимать как список смежности."
   ]
  },
  {
   "cell_type": "code",
   "execution_count": 43,
   "metadata": {},
   "outputs": [
    {
     "name": "stdout",
     "output_type": "stream",
     "text": [
      "Было: \n",
      " [[1 2]\n",
      " [1 5]] \n",
      "\n",
      "Стало: \n",
      " ['1 2', '1 5'] \n",
      "\n",
      "Список всех вершин (сегментов реки): [1, 2, 5, 3, 6, 4, 7]\n"
     ]
    }
   ],
   "source": [
    "list_of_adjacencies = data[['NEW', 'NEW_2']]\n",
    "list_of_adjacencies = np.array(list_of_adjacencies)\n",
    "\n",
    "# Функция для приведения списка смежности к нужному формату\n",
    "def prepare(list_of_adjacencies):\n",
    "    lines = []\n",
    "    for i in list_of_adjacencies:\n",
    "        i_0 = str(i[0])\n",
    "        i_1 = str(i[1])\n",
    "        string = i_0 + ' ' + i_1\n",
    "        lines.append(string)\n",
    "    return(lines)\n",
    "\n",
    "lines = prepare(list_of_adjacencies)\n",
    "G = nx.parse_adjlist(lines, nodetype = int)\n",
    "print('Было: \\n', list_of_adjacencies[0:2], '\\n')\n",
    "print('Стало: \\n', lines[0:2], '\\n')\n",
    "# Посмотрим, корректно ли мы опередили граф\n",
    "print('Список всех вершин (сегментов реки):', G.nodes())"
   ]
  },
  {
   "cell_type": "markdown",
   "metadata": {},
   "source": [
    "Визуализируем граф"
   ]
  },
  {
   "cell_type": "code",
   "execution_count": 44,
   "metadata": {},
   "outputs": [
    {
     "data": {
      "image/png": "[encoded data removed]",
      "text/plain": [
       "<Figure size 432x288 with 1 Axes>"
      ]
     },
     "metadata": {},
     "output_type": "display_data"
    }
   ],
   "source": [
    "nx.draw(G,pos=nx.spring_layout(G), with_labels=True, node_color='#1E90FF', node_size=1000) "
   ]
  },
  {
   "cell_type": "markdown",
   "metadata": {},
   "source": [
    "Стоит обратить внимание, что граф, составленный по гидрологической сети таким образом содержит много циклов.\n",
    "\n",
    "Основные этапы обработки можно описать в виде схемы:\n",
    "![Flow.png](https://raw.githubusercontent.com/Dreamlone/State_Hydrological_Institute/master/images/flow.png)\n",
    "\n",
    "Первые этапы выполнялис над векторным слоем водотоков в геоинформационной системе QGIS. Алгоритм обхода графа осуществлялся с помощью скрпитов на Python."
   ]
  },
  {
   "cell_type": "markdown",
   "metadata": {},
   "source": [
    "## Алгоритм присваивания вершинам (сегментам реки) их порядка в речной сети\n",
    "\n",
    "Мы предполагаем, что нам известно какой сегмент в речной сети является замыкающим (устье реки). Поэтому присваивание атрибутов будет происходить, начниая именно с него. В данном примере номер сегмена, с которого мы будем начинать обход графа - 1.\n",
    "\n",
    "Код ниже присваивает замыкающему сегменту ранг 1, всем сегменты впадающим в замыкающий - ранг 2, все сегменты, впдающие в притоки второго ранга - ранг 3 и т.д.\n",
    "\n",
    "### 1. Присваивание ранга кажому сегменту (атрибут 'rank')"
   ]
  },
  {
   "cell_type": "code",
   "execution_count": 45,
   "metadata": {},
   "outputs": [
    {
     "name": "stdout",
     "output_type": "stream",
     "text": [
      "Количество вершин в графе - 7\n",
      "1  -  {'rank': 1, 'offspring': 2}\n",
      "2  -  {'rank': 2, 'offspring': 2}\n",
      "5  -  {'rank': 2, 'offspring': 2}\n",
      "3  -  {'rank': 3}\n",
      "6  -  {'rank': 3}\n",
      "4  -  {'rank': 3}\n",
      "7  -  {'rank': 3}\n"
     ]
    }
   ],
   "source": [
    "# Количество вершин в графе\n",
    "nodes_amount = len(G.nodes())\n",
    "print('Количество вершин в графе -', nodes_amount)\n",
    "\n",
    "# Функция для присваивания атрибутов вершинам графа\n",
    "def attr_set(G, start):\n",
    "    # Начальной вершине присвоим значением атрибута - 1\n",
    "    attrs = {start: {'rank' : 1}}\n",
    "    nx.set_node_attributes(G, attrs)\n",
    "    \n",
    "    # Список со всеми вершинами, до которых можно добраться из точки start\n",
    "    # при помощи поиска в ширину\n",
    "    vert_list = list(nx.bfs_successors(G, source = start)) \n",
    "    \n",
    "    # Цикл обхода графа с присваиванием меток вершинам\n",
    "    # Каждая компонента - это небольшой подграф\n",
    "    for component in vert_list:\n",
    "        vertex = component[0] # Вершина в которой находимся на данной итерации\n",
    "        neighbors = component[1] # Вершины, которые являются соседними (которые мы еще не посещали)\n",
    "        \n",
    "        # Добавление атрибута - количество потомков у данной вершины\n",
    "        n_offspring = len(neighbors)\n",
    "        attrs = {vertex: {'offspring' : n_offspring}}\n",
    "        nx.set_node_attributes(G, attrs)\n",
    "        \n",
    "        # Значение атрибута в рассматриваемой вершине\n",
    "        att = G.nodes[vertex].get('rank')\n",
    "        if att != None:\n",
    "            # Значение атрибута, которое будет присвоено соседним вершинам\n",
    "            att_number = att + 1\n",
    "        \n",
    "        # Для каждого соседа производим присваивание атрибута\n",
    "        for i in neighbors:\n",
    "            attrs = {i: {'rank' : att_number}}\n",
    "            nx.set_node_attributes(G, attrs)\n",
    "    \n",
    "    # Проверка, правильно ли мы все сделали\n",
    "    for vertex in list(G.nodes()):\n",
    "        print(vertex, ' - ', G.nodes[vertex])\n",
    "\n",
    "attr_set(G, 1)"
   ]
  },
  {
   "cell_type": "markdown",
   "metadata": {},
   "source": [
    "## Основной алгоритм - присваивание порядка водотоков \n",
    "\n",
    "Всем вершинам, у которых нет потомков, присваивается значение 1. Всем вершинам, которые имеют в качестве потомков вершины с 1 - присваивается значение равное количеству потомков с этими единицами.\n",
    "\n",
    "### 2. Определение порядка водотоков (атрибут 'value')"
   ]
  },
  {
   "cell_type": "code",
   "execution_count": 46,
   "metadata": {},
   "outputs": [
    {
     "name": "stdout",
     "output_type": "stream",
     "text": [
      "1  -  {'rank': 1, 'offspring': 2}\n",
      "2  -  {'rank': 2, 'offspring': 2}\n",
      "5  -  {'rank': 2, 'offspring': 2}\n",
      "3  -  {'rank': 3, 'value': 1}\n",
      "6  -  {'rank': 3, 'value': 1}\n",
      "4  -  {'rank': 3, 'value': 1}\n",
      "7  -  {'rank': 3, 'value': 1}\n",
      "\n",
      "\n",
      "1  -  {'rank': 1, 'offspring': 2}\n",
      "2  -  {'rank': 2, 'offspring': 2, 'value': 2}\n",
      "5  -  {'rank': 2, 'offspring': 2, 'value': 2}\n",
      "3  -  {'rank': 3, 'value': 1}\n",
      "6  -  {'rank': 3, 'value': 1}\n",
      "4  -  {'rank': 3, 'value': 1}\n",
      "7  -  {'rank': 3, 'value': 1}\n",
      "\n",
      "\n",
      "1  -  {'rank': 1, 'offspring': 2, 'value': 4}\n",
      "2  -  {'rank': 2, 'offspring': 2, 'value': 2}\n",
      "5  -  {'rank': 2, 'offspring': 2, 'value': 2}\n",
      "3  -  {'rank': 3, 'value': 1}\n",
      "6  -  {'rank': 3, 'value': 1}\n",
      "4  -  {'rank': 3, 'value': 1}\n",
      "7  -  {'rank': 3, 'value': 1}\n",
      "\n",
      "\n"
     ]
    }
   ],
   "source": [
    "# Функция для определения порядка сегментов реки по аналогии с методом Шреве\n",
    "def set_values(G, start):    \n",
    "    # Список со всеми вершинами, до которых можно добраться из точки start\n",
    "    # при помощи поиска в ширину\n",
    "    vert_list = list(nx.bfs_successors(G, source = start)) \n",
    "\n",
    "    # Цикл обхода графа с присваиванием меток вершинам\n",
    "    # Каждая компонента - это небольшой подграф\n",
    "    for component in vert_list:\n",
    "        vertex = component[0] # Вершина в которой находимся на данной итерации\n",
    "        neighbors = component[1] # Вершины, которые являются соседними (которые мы еще не посещали)\n",
    "        \n",
    "        att_rank = G.nodes[vertex].get('rank')\n",
    "        att_offspring = G.nodes[vertex].get('offspring')\n",
    "        \n",
    "        # Для замыкающего сегмента производим следующую процедуру:\n",
    "        if att_rank == 1:\n",
    "            # Определяем потомков\n",
    "            offspring = list(nx.bfs_successors(G, source = vertex)) \n",
    "            # Используем только ближайших к данной вершине соседей (прямых потомков)\n",
    "            offspring = offspring[0][1]\n",
    "            \n",
    "            # Записываем в список значения атрибутов value у всех потомков\n",
    "            last_values = []\n",
    "            for child in offspring:\n",
    "                if G.nodes[child].get('value') != None:\n",
    "                    last_values.append(G.nodes[child].get('value'))\n",
    "                else:\n",
    "                    last_values.append(0)\n",
    "                    \n",
    "            last_values = np.array(last_values)\n",
    "            sum_values = np.sum(last_values)\n",
    "            \n",
    "            # Если сумма не равна 0, то атрибут присваивается\n",
    "            if sum_values != 0:\n",
    "                attrs = {vertex: {'value' : sum_values}}\n",
    "                nx.set_node_attributes(G, attrs)\n",
    "            # Иначе алгоритм просто еще не дошел, пропускаем этот пункт\n",
    "            else:\n",
    "                pass\n",
    "            \n",
    "        # Для каждого соседа производим присваивание атрибута\n",
    "        for i in neighbors:\n",
    "            # Значение атрибутов в рассматриваемой вершине\n",
    "            att_rank = G.nodes[i].get('rank')\n",
    "            att_offspring = G.nodes[i].get('offspring')\n",
    "            \n",
    "            # Если у вершины на предыдущем этапе не было найдено потомков, то ей присваивается значение 1\n",
    "            if att_offspring == None:\n",
    "                attrs = {i: {'value' : 1}}\n",
    "                nx.set_node_attributes(G, attrs)            \n",
    "            # Если вершина имеет потомков, то необходимо определить значения атрибута \"value\" в них\n",
    "            else:\n",
    "                # Производим поиск всех потомков\n",
    "                offspring = list(nx.bfs_successors(G, source = i)) \n",
    "                # Используем только ближайших к данной вершине соседей (прямых потомков)\n",
    "                offspring = offspring[0][1]\n",
    "\n",
    "                # Цикл определения значений в вершинах - потомках\n",
    "                last_values = []\n",
    "                for child in offspring:\n",
    "                    # Нужны только те потомки, значение ранга которых строго больше, чем у рассматриваемой вершины\n",
    "                    if G.nodes[child].get('rank') > att_rank:\n",
    "                        if G.nodes[child].get('value') != None:\n",
    "                            last_values.append(G.nodes[child].get('value'))\n",
    "                        else:\n",
    "                            pass\n",
    "                    else:\n",
    "                        pass\n",
    "                    \n",
    "                last_values = np.array(last_values)\n",
    "                sum_values = np.sum(last_values)\n",
    "                \n",
    "                # Если сумма не равна 0, то атрибут присваивается\n",
    "                if sum_values != 0:\n",
    "                    attrs = {i: {'value' : sum_values}}\n",
    "                    nx.set_node_attributes(G, attrs)\n",
    "                # Иначе алгоритм просто еще не дошел, пропускаем этот пункт\n",
    "                else:\n",
    "                    pass          \n",
    "                \n",
    "    # Проверка, правильно ли мы все сделали\n",
    "    for vertex in list(G.nodes()):\n",
    "        print(vertex, ' - ', G.nodes[vertex])\n",
    "    print('\\n')\n",
    "\n",
    "# Поскольку мы начинаем обход графа из стартовой точки, то нам необходимо производить несколько итераций последовательно\n",
    "# Функция для итеративного обхода\n",
    "def iter_sets(G, start):\n",
    "    # Определяем максимальное значение ранга в данном графе\n",
    "    ranks = []\n",
    "    for vertex in list(G.nodes()):\n",
    "        ranks.append(G.nodes[vertex].get('rank'))\n",
    "    max_rank = max(ranks) \n",
    "    \n",
    "    # Мы должны проитерировать ровно столько раз, сколько рангов есть в графе\n",
    "    for iteration in range(0, max_rank):\n",
    "        set_values(G, 1)\n",
    "\n",
    "# Применение алгоритма: запускаем функцию iter_sets\n",
    "iter_sets(G, 1)"
   ]
  },
  {
   "cell_type": "markdown",
   "metadata": {},
   "source": [
    "Таким образом обход графа производится в 2 этапа:\n",
    "\n",
    "1) Присваивание вершинам графа атрибута 'rank', где значение ранга равно 1 для замыкающего сегмента, 2 - для всех его притоков, 3 - для всех притоков 2го ранга и т.д. Также вершинам присваивается атрибут 'offspring' - количество прямых потомков у данной вершины (значение ранга потомков всегда на 1 больше, чем у рассматриваемой вершины)\n",
    "\n",
    "2) Присваивание вершинам графа атрибута 'value' на основе количества потомков у вершин и их ранга. При этом, отсутствие прямых потомков у вершины свидетельствует о том, что данный сегмент не имеет притоков и должен получить значение 'value' - 1. \n",
    "\n",
    "Визуализация процесса работы алгоритма:\n",
    "\n",
    "![animation_graph.gif](https://raw.githubusercontent.com/Dreamlone/State_Hydrological_Institute/master/images/animation_graph.gif)"
   ]
  }
 ],
 "metadata": {
  "kernelspec": {
   "display_name": "Python 3",
   "language": "python",
   "name": "python3"
  },
  "language_info": {
   "codemirror_mode": {
    "name": "ipython",
    "version": 3
   },
   "file_extension": ".py",
   "mimetype": "text/x-python",
   "name": "python",
   "nbconvert_exporter": "python",
   "pygments_lexer": "ipython3",
   "version": "3.7.3"
  }
 },
 "nbformat": 4,
 "nbformat_minor": 4
}
